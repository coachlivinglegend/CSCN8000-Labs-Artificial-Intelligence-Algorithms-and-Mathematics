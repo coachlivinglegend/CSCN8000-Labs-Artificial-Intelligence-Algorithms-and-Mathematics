{
 "cells": [
  {
   "cell_type": "code",
   "execution_count": 42,
   "metadata": {},
   "outputs": [
    {
     "data": {
      "text/html": [
       "<div>\n",
       "<style scoped>\n",
       "    .dataframe tbody tr th:only-of-type {\n",
       "        vertical-align: middle;\n",
       "    }\n",
       "\n",
       "    .dataframe tbody tr th {\n",
       "        vertical-align: top;\n",
       "    }\n",
       "\n",
       "    .dataframe thead th {\n",
       "        text-align: right;\n",
       "    }\n",
       "</style>\n",
       "<table border=\"1\" class=\"dataframe\">\n",
       "  <thead>\n",
       "    <tr style=\"text-align: right;\">\n",
       "      <th></th>\n",
       "      <th>one</th>\n",
       "      <th>two</th>\n",
       "      <th>three</th>\n",
       "    </tr>\n",
       "  </thead>\n",
       "  <tbody>\n",
       "    <tr>\n",
       "      <th>0</th>\n",
       "      <td>157.450712</td>\n",
       "      <td>57.328244</td>\n",
       "      <td>53.692333</td>\n",
       "    </tr>\n",
       "    <tr>\n",
       "      <th>1</th>\n",
       "      <td>147.926035</td>\n",
       "      <td>48.871118</td>\n",
       "      <td>50.856841</td>\n",
       "    </tr>\n",
       "    <tr>\n",
       "      <th>2</th>\n",
       "      <td>53.238443</td>\n",
       "      <td>151.012923</td>\n",
       "      <td>49.421759</td>\n",
       "    </tr>\n",
       "    <tr>\n",
       "      <th>3</th>\n",
       "      <td>57.615149</td>\n",
       "      <td>128.628777</td>\n",
       "      <td>48.494482</td>\n",
       "    </tr>\n",
       "    <tr>\n",
       "      <th>4</th>\n",
       "      <td>48.829233</td>\n",
       "      <td>141.834259</td>\n",
       "      <td>42.607390</td>\n",
       "    </tr>\n",
       "    <tr>\n",
       "      <th>5</th>\n",
       "      <td>48.829315</td>\n",
       "      <td>50.554613</td>\n",
       "      <td>139.202337</td>\n",
       "    </tr>\n",
       "    <tr>\n",
       "      <th>6</th>\n",
       "      <td>57.896064</td>\n",
       "      <td>44.245032</td>\n",
       "      <td>143.090418</td>\n",
       "    </tr>\n",
       "    <tr>\n",
       "      <th>7</th>\n",
       "      <td>53.837174</td>\n",
       "      <td>51.878490</td>\n",
       "      <td>165.856833</td>\n",
       "    </tr>\n",
       "    <tr>\n",
       "      <th>8</th>\n",
       "      <td>47.652628</td>\n",
       "      <td>46.996807</td>\n",
       "      <td>155.154274</td>\n",
       "    </tr>\n",
       "    <tr>\n",
       "      <th>9</th>\n",
       "      <td>52.712800</td>\n",
       "      <td>48.541531</td>\n",
       "      <td>41.184799</td>\n",
       "    </tr>\n",
       "    <tr>\n",
       "      <th>10</th>\n",
       "      <td>47.682912</td>\n",
       "      <td>46.991467</td>\n",
       "      <td>51.620420</td>\n",
       "    </tr>\n",
       "    <tr>\n",
       "      <th>11</th>\n",
       "      <td>47.671351</td>\n",
       "      <td>59.261391</td>\n",
       "      <td>48.074589</td>\n",
       "    </tr>\n",
       "    <tr>\n",
       "      <th>12</th>\n",
       "      <td>51.209811</td>\n",
       "      <td>49.932514</td>\n",
       "      <td>46.615390</td>\n",
       "    </tr>\n",
       "    <tr>\n",
       "      <th>13</th>\n",
       "      <td>40.433599</td>\n",
       "      <td>44.711445</td>\n",
       "      <td>53.058381</td>\n",
       "    </tr>\n",
       "    <tr>\n",
       "      <th>14</th>\n",
       "      <td>41.375411</td>\n",
       "      <td>54.112725</td>\n",
       "      <td>55.154998</td>\n",
       "    </tr>\n",
       "    <tr>\n",
       "      <th>15</th>\n",
       "      <td>47.188562</td>\n",
       "      <td>43.895782</td>\n",
       "      <td>54.656401</td>\n",
       "    </tr>\n",
       "    <tr>\n",
       "      <th>16</th>\n",
       "      <td>44.935844</td>\n",
       "      <td>51.044318</td>\n",
       "      <td>45.803912</td>\n",
       "    </tr>\n",
       "    <tr>\n",
       "      <th>17</th>\n",
       "      <td>51.571237</td>\n",
       "      <td>40.201649</td>\n",
       "      <td>48.453938</td>\n",
       "    </tr>\n",
       "    <tr>\n",
       "      <th>18</th>\n",
       "      <td>45.459880</td>\n",
       "      <td>43.359070</td>\n",
       "      <td>51.656317</td>\n",
       "    </tr>\n",
       "    <tr>\n",
       "      <th>19</th>\n",
       "      <td>42.938481</td>\n",
       "      <td>50.984306</td>\n",
       "      <td>54.877726</td>\n",
       "    </tr>\n",
       "  </tbody>\n",
       "</table>\n",
       "</div>"
      ],
      "text/plain": [
       "           one         two       three\n",
       "0   157.450712   57.328244   53.692333\n",
       "1   147.926035   48.871118   50.856841\n",
       "2    53.238443  151.012923   49.421759\n",
       "3    57.615149  128.628777   48.494482\n",
       "4    48.829233  141.834259   42.607390\n",
       "5    48.829315   50.554613  139.202337\n",
       "6    57.896064   44.245032  143.090418\n",
       "7    53.837174   51.878490  165.856833\n",
       "8    47.652628   46.996807  155.154274\n",
       "9    52.712800   48.541531   41.184799\n",
       "10   47.682912   46.991467   51.620420\n",
       "11   47.671351   59.261391   48.074589\n",
       "12   51.209811   49.932514   46.615390\n",
       "13   40.433599   44.711445   53.058381\n",
       "14   41.375411   54.112725   55.154998\n",
       "15   47.188562   43.895782   54.656401\n",
       "16   44.935844   51.044318   45.803912\n",
       "17   51.571237   40.201649   48.453938\n",
       "18   45.459880   43.359070   51.656317\n",
       "19   42.938481   50.984306   54.877726"
      ]
     },
     "execution_count": 42,
     "metadata": {},
     "output_type": "execute_result"
    }
   ],
   "source": [
    "import pandas as pd\n",
    "import numpy as np\n",
    "\n",
    "# Set seed for reproducibility\n",
    "np.random.seed(42)\n",
    "\n",
    "# Generate 20 random data points for two columns\n",
    "data = {\n",
    "    'one': np.random.normal(loc=50, scale=5, size=20),\n",
    "    'two': np.random.normal(loc=50, scale=5, size=20),\n",
    "    'three': np.random.normal(loc=50, scale=5, size=20),\n",
    "}\n",
    "\n",
    "# Convert to DataFrame\n",
    "df = pd.DataFrame(data)\n",
    "\n",
    "# Introduce outliers in Column1 (3 outliers)\n",
    "df.loc[0:1, 'one'] *= 3\n",
    "\n",
    "# Introduce outliers in Column2 (5 outliers)\n",
    "df.loc[2:4, 'two'] *= 3\n",
    "\n",
    "# Introduce outliers in Column2 (5 outliers)\n",
    "df.loc[5:8, 'three'] *= 3\n",
    "\n",
    "df\n"
   ]
  },
  {
   "cell_type": "code",
   "execution_count": 43,
   "metadata": {},
   "outputs": [
    {
     "data": {
      "text/plain": [
       "46.756391670944836"
      ]
     },
     "metadata": {},
     "output_type": "display_data"
    },
    {
     "data": {
      "text/plain": [
       "53.388125429318734"
      ]
     },
     "metadata": {},
     "output_type": "display_data"
    },
    {
     "data": {
      "text/plain": [
       "6.631733758373898"
      ]
     },
     "metadata": {},
     "output_type": "display_data"
    },
    {
     "data": {
      "text/plain": [
       "36.80879103338399"
      ]
     },
     "metadata": {},
     "output_type": "display_data"
    },
    {
     "data": {
      "text/plain": [
       "63.33572606687958"
      ]
     },
     "metadata": {},
     "output_type": "display_data"
    },
    {
     "name": "stdout",
     "output_type": "stream",
     "text": [
      "Number of outliers in one: 2, Percentage of outliers: 10.00%\n"
     ]
    },
    {
     "data": {
      "text/plain": [
       "46.42146154294488"
      ]
     },
     "metadata": {},
     "output_type": "display_data"
    },
    {
     "data": {
      "text/plain": [
       "54.9166043815389"
      ]
     },
     "metadata": {},
     "output_type": "display_data"
    },
    {
     "data": {
      "text/plain": [
       "8.49514283859402"
      ]
     },
     "metadata": {},
     "output_type": "display_data"
    },
    {
     "data": {
      "text/plain": [
       "33.67874728505385"
      ]
     },
     "metadata": {},
     "output_type": "display_data"
    },
    {
     "data": {
      "text/plain": [
       "67.65931863942993"
      ]
     },
     "metadata": {},
     "output_type": "display_data"
    },
    {
     "name": "stdout",
     "output_type": "stream",
     "text": [
      "Number of outliers in two: 3, Percentage of outliers: 15.00%\n"
     ]
    },
    {
     "data": {
      "text/plain": [
       "48.35910074003755"
      ]
     },
     "metadata": {},
     "output_type": "display_data"
    },
    {
     "data": {
      "text/plain": [
       "54.947043629828784"
      ]
     },
     "metadata": {},
     "output_type": "display_data"
    },
    {
     "data": {
      "text/plain": [
       "6.587942889791236"
      ]
     },
     "metadata": {},
     "output_type": "display_data"
    },
    {
     "data": {
      "text/plain": [
       "38.47718640535069"
      ]
     },
     "metadata": {},
     "output_type": "display_data"
    },
    {
     "data": {
      "text/plain": [
       "64.82895796451564"
      ]
     },
     "metadata": {},
     "output_type": "display_data"
    },
    {
     "name": "stdout",
     "output_type": "stream",
     "text": [
      "Number of outliers in three: 4, Percentage of outliers: 20.00%\n",
      "\n",
      "\n",
      "Number of rows with at least one outlier: 9, Percentage of rows with at least one outlier: 45.00%\n"
     ]
    },
    {
     "data": {
      "text/html": [
       "<div>\n",
       "<style scoped>\n",
       "    .dataframe tbody tr th:only-of-type {\n",
       "        vertical-align: middle;\n",
       "    }\n",
       "\n",
       "    .dataframe tbody tr th {\n",
       "        vertical-align: top;\n",
       "    }\n",
       "\n",
       "    .dataframe thead th {\n",
       "        text-align: right;\n",
       "    }\n",
       "</style>\n",
       "<table border=\"1\" class=\"dataframe\">\n",
       "  <thead>\n",
       "    <tr style=\"text-align: right;\">\n",
       "      <th></th>\n",
       "      <th>one</th>\n",
       "      <th>two</th>\n",
       "      <th>three</th>\n",
       "    </tr>\n",
       "  </thead>\n",
       "  <tbody>\n",
       "    <tr>\n",
       "      <th>9</th>\n",
       "      <td>52.712800</td>\n",
       "      <td>48.541531</td>\n",
       "      <td>41.184799</td>\n",
       "    </tr>\n",
       "    <tr>\n",
       "      <th>10</th>\n",
       "      <td>47.682912</td>\n",
       "      <td>46.991467</td>\n",
       "      <td>51.620420</td>\n",
       "    </tr>\n",
       "    <tr>\n",
       "      <th>11</th>\n",
       "      <td>47.671351</td>\n",
       "      <td>59.261391</td>\n",
       "      <td>48.074589</td>\n",
       "    </tr>\n",
       "    <tr>\n",
       "      <th>12</th>\n",
       "      <td>51.209811</td>\n",
       "      <td>49.932514</td>\n",
       "      <td>46.615390</td>\n",
       "    </tr>\n",
       "    <tr>\n",
       "      <th>13</th>\n",
       "      <td>40.433599</td>\n",
       "      <td>44.711445</td>\n",
       "      <td>53.058381</td>\n",
       "    </tr>\n",
       "    <tr>\n",
       "      <th>14</th>\n",
       "      <td>41.375411</td>\n",
       "      <td>54.112725</td>\n",
       "      <td>55.154998</td>\n",
       "    </tr>\n",
       "    <tr>\n",
       "      <th>15</th>\n",
       "      <td>47.188562</td>\n",
       "      <td>43.895782</td>\n",
       "      <td>54.656401</td>\n",
       "    </tr>\n",
       "    <tr>\n",
       "      <th>16</th>\n",
       "      <td>44.935844</td>\n",
       "      <td>51.044318</td>\n",
       "      <td>45.803912</td>\n",
       "    </tr>\n",
       "    <tr>\n",
       "      <th>17</th>\n",
       "      <td>51.571237</td>\n",
       "      <td>40.201649</td>\n",
       "      <td>48.453938</td>\n",
       "    </tr>\n",
       "    <tr>\n",
       "      <th>18</th>\n",
       "      <td>45.459880</td>\n",
       "      <td>43.359070</td>\n",
       "      <td>51.656317</td>\n",
       "    </tr>\n",
       "    <tr>\n",
       "      <th>19</th>\n",
       "      <td>42.938481</td>\n",
       "      <td>50.984306</td>\n",
       "      <td>54.877726</td>\n",
       "    </tr>\n",
       "  </tbody>\n",
       "</table>\n",
       "</div>"
      ],
      "text/plain": [
       "          one        two      three\n",
       "9   52.712800  48.541531  41.184799\n",
       "10  47.682912  46.991467  51.620420\n",
       "11  47.671351  59.261391  48.074589\n",
       "12  51.209811  49.932514  46.615390\n",
       "13  40.433599  44.711445  53.058381\n",
       "14  41.375411  54.112725  55.154998\n",
       "15  47.188562  43.895782  54.656401\n",
       "16  44.935844  51.044318  45.803912\n",
       "17  51.571237  40.201649  48.453938\n",
       "18  45.459880  43.359070  51.656317\n",
       "19  42.938481  50.984306  54.877726"
      ]
     },
     "execution_count": 43,
     "metadata": {},
     "output_type": "execute_result"
    }
   ],
   "source": [
    "def calculate_outliers(df):\n",
    "    outliers_rows = []\n",
    "    for col in df.columns:\n",
    "        Q1 = df[col].quantile(0.25)\n",
    "        Q3 = df[col].quantile(0.75)\n",
    "        IQR = Q3 - Q1\n",
    "        display(Q1, Q3, IQR)\n",
    "        lower_bound = Q1 - 1.5 * IQR\n",
    "        upper_bound = Q3 + 1.5 * IQR\n",
    "        outliers = df[(df[col] < lower_bound) | (df[col] > upper_bound)]\n",
    "        display(lower_bound, upper_bound)\n",
    "        print(f'Number of outliers in {col}: {len(outliers)}, Percentage of outliers: {len(outliers) / len(df) * 100:.2f}%')\n",
    "        outliers_rows.extend(outliers.index.tolist())\n",
    "    \n",
    "    # Get unique row indices with outliers\n",
    "    outliers_rows = list(set(outliers_rows))\n",
    "    print('\\n')\n",
    "    print(f'Number of rows with at least one outlier: {len(outliers_rows)}, Percentage of rows with at least one outlier: {len(outliers_rows) / df.shape[0] * 100:.2f}%')\n",
    "\n",
    "    # Create boolean array indicating which rows have at least one outlier\n",
    "    outliers_bool = df.index.isin(outliers_rows)\n",
    "    \n",
    "    return outliers_bool\n",
    "\n",
    "iqr_outliers = calculate_outliers(df)\n",
    "len(iqr_outliers)\n",
    "\n",
    "no_outliers = df[~iqr_outliers]\n",
    "no_outliers"
   ]
  },
  {
   "cell_type": "code",
   "execution_count": 44,
   "metadata": {},
   "outputs": [
    {
     "name": "stdout",
     "output_type": "stream",
     "text": [
      "Processing column:  one\n"
     ]
    },
    {
     "data": {
      "text/plain": [
       "46.756391670944836"
      ]
     },
     "metadata": {},
     "output_type": "display_data"
    },
    {
     "data": {
      "text/plain": [
       "53.388125429318734"
      ]
     },
     "metadata": {},
     "output_type": "display_data"
    },
    {
     "data": {
      "text/plain": [
       "6.631733758373898"
      ]
     },
     "metadata": {},
     "output_type": "display_data"
    },
    {
     "data": {
      "text/plain": [
       "36.80879103338399"
      ]
     },
     "metadata": {},
     "output_type": "display_data"
    },
    {
     "data": {
      "text/plain": [
       "63.33572606687958"
      ]
     },
     "metadata": {},
     "output_type": "display_data"
    },
    {
     "name": "stdout",
     "output_type": "stream",
     "text": [
      "Processing column:  two\n"
     ]
    },
    {
     "data": {
      "text/plain": [
       "45.28145075112863"
      ]
     },
     "metadata": {},
     "output_type": "display_data"
    },
    {
     "data": {
      "text/plain": [
       "53.55416594331905"
      ]
     },
     "metadata": {},
     "output_type": "display_data"
    },
    {
     "data": {
      "text/plain": [
       "8.272715192190418"
      ]
     },
     "metadata": {},
     "output_type": "display_data"
    },
    {
     "data": {
      "text/plain": [
       "32.872377962843004"
      ]
     },
     "metadata": {},
     "output_type": "display_data"
    },
    {
     "data": {
      "text/plain": [
       "65.96323873160468"
      ]
     },
     "metadata": {},
     "output_type": "display_data"
    },
    {
     "name": "stdout",
     "output_type": "stream",
     "text": [
      "Processing column:  three\n"
     ]
    },
    {
     "data": {
      "text/plain": [
       "48.264263359331174"
      ]
     },
     "metadata": {},
     "output_type": "display_data"
    },
    {
     "data": {
      "text/plain": [
       "97.17866724327956"
      ]
     },
     "metadata": {},
     "output_type": "display_data"
    },
    {
     "data": {
      "text/plain": [
       "48.91440388394839"
      ]
     },
     "metadata": {},
     "output_type": "display_data"
    },
    {
     "data": {
      "text/plain": [
       "-25.107342466591412"
      ]
     },
     "metadata": {},
     "output_type": "display_data"
    },
    {
     "data": {
      "text/plain": [
       "170.55027306920215"
      ]
     },
     "metadata": {},
     "output_type": "display_data"
    },
    {
     "data": {
      "text/html": [
       "<div>\n",
       "<style scoped>\n",
       "    .dataframe tbody tr th:only-of-type {\n",
       "        vertical-align: middle;\n",
       "    }\n",
       "\n",
       "    .dataframe tbody tr th {\n",
       "        vertical-align: top;\n",
       "    }\n",
       "\n",
       "    .dataframe thead th {\n",
       "        text-align: right;\n",
       "    }\n",
       "</style>\n",
       "<table border=\"1\" class=\"dataframe\">\n",
       "  <thead>\n",
       "    <tr style=\"text-align: right;\">\n",
       "      <th></th>\n",
       "      <th>one</th>\n",
       "      <th>two</th>\n",
       "      <th>three</th>\n",
       "    </tr>\n",
       "  </thead>\n",
       "  <tbody>\n",
       "    <tr>\n",
       "      <th>5</th>\n",
       "      <td>48.829315</td>\n",
       "      <td>50.554613</td>\n",
       "      <td>139.202337</td>\n",
       "    </tr>\n",
       "    <tr>\n",
       "      <th>6</th>\n",
       "      <td>57.896064</td>\n",
       "      <td>44.245032</td>\n",
       "      <td>143.090418</td>\n",
       "    </tr>\n",
       "    <tr>\n",
       "      <th>7</th>\n",
       "      <td>53.837174</td>\n",
       "      <td>51.878490</td>\n",
       "      <td>165.856833</td>\n",
       "    </tr>\n",
       "    <tr>\n",
       "      <th>8</th>\n",
       "      <td>47.652628</td>\n",
       "      <td>46.996807</td>\n",
       "      <td>155.154274</td>\n",
       "    </tr>\n",
       "    <tr>\n",
       "      <th>9</th>\n",
       "      <td>52.712800</td>\n",
       "      <td>48.541531</td>\n",
       "      <td>41.184799</td>\n",
       "    </tr>\n",
       "    <tr>\n",
       "      <th>10</th>\n",
       "      <td>47.682912</td>\n",
       "      <td>46.991467</td>\n",
       "      <td>51.620420</td>\n",
       "    </tr>\n",
       "    <tr>\n",
       "      <th>11</th>\n",
       "      <td>47.671351</td>\n",
       "      <td>59.261391</td>\n",
       "      <td>48.074589</td>\n",
       "    </tr>\n",
       "    <tr>\n",
       "      <th>12</th>\n",
       "      <td>51.209811</td>\n",
       "      <td>49.932514</td>\n",
       "      <td>46.615390</td>\n",
       "    </tr>\n",
       "    <tr>\n",
       "      <th>13</th>\n",
       "      <td>40.433599</td>\n",
       "      <td>44.711445</td>\n",
       "      <td>53.058381</td>\n",
       "    </tr>\n",
       "    <tr>\n",
       "      <th>14</th>\n",
       "      <td>41.375411</td>\n",
       "      <td>54.112725</td>\n",
       "      <td>55.154998</td>\n",
       "    </tr>\n",
       "    <tr>\n",
       "      <th>15</th>\n",
       "      <td>47.188562</td>\n",
       "      <td>43.895782</td>\n",
       "      <td>54.656401</td>\n",
       "    </tr>\n",
       "    <tr>\n",
       "      <th>16</th>\n",
       "      <td>44.935844</td>\n",
       "      <td>51.044318</td>\n",
       "      <td>45.803912</td>\n",
       "    </tr>\n",
       "    <tr>\n",
       "      <th>17</th>\n",
       "      <td>51.571237</td>\n",
       "      <td>40.201649</td>\n",
       "      <td>48.453938</td>\n",
       "    </tr>\n",
       "    <tr>\n",
       "      <th>18</th>\n",
       "      <td>45.459880</td>\n",
       "      <td>43.359070</td>\n",
       "      <td>51.656317</td>\n",
       "    </tr>\n",
       "    <tr>\n",
       "      <th>19</th>\n",
       "      <td>42.938481</td>\n",
       "      <td>50.984306</td>\n",
       "      <td>54.877726</td>\n",
       "    </tr>\n",
       "  </tbody>\n",
       "</table>\n",
       "</div>"
      ],
      "text/plain": [
       "          one        two       three\n",
       "5   48.829315  50.554613  139.202337\n",
       "6   57.896064  44.245032  143.090418\n",
       "7   53.837174  51.878490  165.856833\n",
       "8   47.652628  46.996807  155.154274\n",
       "9   52.712800  48.541531   41.184799\n",
       "10  47.682912  46.991467   51.620420\n",
       "11  47.671351  59.261391   48.074589\n",
       "12  51.209811  49.932514   46.615390\n",
       "13  40.433599  44.711445   53.058381\n",
       "14  41.375411  54.112725   55.154998\n",
       "15  47.188562  43.895782   54.656401\n",
       "16  44.935844  51.044318   45.803912\n",
       "17  51.571237  40.201649   48.453938\n",
       "18  45.459880  43.359070   51.656317\n",
       "19  42.938481  50.984306   54.877726"
      ]
     },
     "metadata": {},
     "output_type": "display_data"
    },
    {
     "data": {
      "text/plain": [
       "15"
      ]
     },
     "execution_count": 44,
     "metadata": {},
     "output_type": "execute_result"
    }
   ],
   "source": [
    "def remove_outliers_iqr(clean_df):\n",
    "    \n",
    "    for col in clean_df.columns:\n",
    "        print('Processing column: ', col)\n",
    "        # Calculate Q1, Q3 and IQR\n",
    "        Q1 = clean_df[col].quantile(0.25)\n",
    "        Q3 = clean_df[col].quantile(0.75)\n",
    "        IQR = Q3 - Q1\n",
    "        display(Q1, Q3, IQR)\n",
    "        # Define the acceptable range (values within 1.5 IQR from Q1 and Q3)\n",
    "        lower_bound = Q1 - 1.5 * IQR\n",
    "        upper_bound = Q3 + 1.5 * IQR\n",
    "        \n",
    "        # Filter out the outliers\n",
    "        clean_df = clean_df[(clean_df[col] >= lower_bound) & (clean_df[col] <= upper_bound)]\n",
    "        display(lower_bound, upper_bound)\n",
    "\n",
    "    return clean_df\n",
    "\n",
    "# Remove outliers from the dataset\n",
    "df_no_outliers = remove_outliers_iqr(df)\n",
    "display(df_no_outliers)\n",
    "# Get the number of rows in the cleaned dataset\n",
    "new_num_rows = df_no_outliers.shape[0]\n",
    "new_num_rows\n"
   ]
  }
 ],
 "metadata": {
  "kernelspec": {
   "display_name": "CSCN8010_classic_ml",
   "language": "python",
   "name": "cscn8010_classic_ml"
  },
  "language_info": {
   "codemirror_mode": {
    "name": "ipython",
    "version": 3
   },
   "file_extension": ".py",
   "mimetype": "text/x-python",
   "name": "python",
   "nbconvert_exporter": "python",
   "pygments_lexer": "ipython3",
   "version": "3.11.7"
  }
 },
 "nbformat": 4,
 "nbformat_minor": 2
}
